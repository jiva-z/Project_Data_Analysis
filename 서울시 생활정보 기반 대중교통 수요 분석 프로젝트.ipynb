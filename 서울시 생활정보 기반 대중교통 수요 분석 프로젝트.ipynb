{
 "cells": [
  {
   "cell_type": "markdown",
   "id": "d38d588c-60be-43d9-b6a5-e63b1379d267",
   "metadata": {},
   "source": [
    "# 서울시 생활정보 기반 대중교통 수요 분석"
   ]
  },
  {
   "cell_type": "markdown",
   "id": "a0f63adc-ebf2-4221-8aba-fa79f51557a0",
   "metadata": {},
   "source": [
    "<img src = \"https://github.com/Jangrae/img/blob/master/bus.png?raw=true\" width=800, align=\"left\"/>"
   ]
  },
  {
   "cell_type": "markdown",
   "id": "boxed-jamaica",
   "metadata": {
    "id": "boxed-jamaica"
   },
   "source": [
    "- 서울시 생활정보 데이터를 기반으로 데이터 분석과 개선 사항 도출\n",
    "- 공공 데이터를 활용해 버스노선 관련 인사이트를 도출하여 유용한 정책을 세우기 위함"
   ]
  },
  {
   "cell_type": "markdown",
   "id": "b9a9c4c4-6dee-474f-82f7-ae976fca4b86",
   "metadata": {
    "id": "gklxNfgNpkls"
   },
   "source": [
    "### 로컬 수행(Anaconda)"
   ]
  },
  {
   "cell_type": "code",
   "execution_count": null,
   "id": "480cb022-4297-4820-b5df-9d1dfa9ab3af",
   "metadata": {
    "id": "PNI6X2yxpkls",
    "tags": []
   },
   "outputs": [],
   "source": [
    "# 기본 경로\n",
    "path = ''"
   ]
  },
  {
   "cell_type": "markdown",
   "id": "a0a22945-46f3-4c3c-b57d-36de5c4ec344",
   "metadata": {
    "id": "7rWT4biQpkls"
   },
   "source": [
    "### 구글 콜랩 수행\n"
   ]
  },
  {
   "cell_type": "code",
   "execution_count": null,
   "id": "2502bd5d-cb16-4eef-a3c1-5b1c61174a22",
   "metadata": {
    "id": "CLasRk8Spklt",
    "tags": []
   },
   "outputs": [],
   "source": [
    "# 구글 드라이브 연결, 패스 지정\n",
    "import sys\n",
    "if 'google.colab' in sys.modules:\n",
    "    from google.colab import drive\n",
    "    drive.mount('/content/drive')\n",
    "    path = '/content/drive/MyDrive/project/'"
   ]
  },
  {
   "cell_type": "markdown",
   "id": "ef9c6ef0-a62e-42d5-b29c-486d8bb86e9b",
   "metadata": {},
   "source": [
    "### 한글 폰트 표시를 위해 설치합니다."
   ]
  },
  {
   "cell_type": "code",
   "execution_count": null,
   "id": "fdc5f5fc-d9cd-4006-87d1-063fed190f3e",
   "metadata": {},
   "outputs": [],
   "source": [
    "# 한글 표시를 위한 라이브러리 설치\n",
    "!pip install koreanize_matplotlib -q"
   ]
  },
  {
   "cell_type": "markdown",
   "id": "ae4cd187-81a3-43d1-819c-828d9db1329f",
   "metadata": {},
   "source": [
    "### 필요한 라이브러리를 불러옵니다."
   ]
  },
  {
   "cell_type": "code",
   "execution_count": null,
   "id": "45311f25-914f-4f87-9873-73ffc2965a41",
   "metadata": {
    "tags": []
   },
   "outputs": [],
   "source": [
    "# 라이브러리 불러오기\n",
    "import numpy as np\n",
    "import pandas as pd\n",
    "import matplotlib.pyplot as plt\n",
    "import koreanize_matplotlib\n",
    "import seaborn as sns\n",
    "import scipy.stats as spst\n",
    "import warnings\n",
    "\n",
    "warnings.filterwarnings(action='ignore')\n",
    "%config InlineBackend.figure_format='retina'"
   ]
  },
  {
   "cell_type": "markdown",
   "id": "46fa690c",
   "metadata": {
    "id": "46fa690c"
   },
   "source": [
    "## ▣ 우리가 풀어야 하는 문제는 무엇인가요?\n",
    "\n",
    "- 제공 데이터\n",
    "    - 버스 승하차 및 운행 노선 데이터\n",
    "    - 구별 유동인구 데이터\n",
    "    - 구별 주민 등록 데이터\n",
    "    - 구별 업종 등록 정보\n",
    "    \n",
    "#### 위 제공 데이터를 분석하여 버스 노선 추가 필요 대상 지역(구 단위)을 선정합니다."
   ]
  },
  {
   "cell_type": "markdown",
   "id": "22a4bba9",
   "metadata": {},
   "source": [
    "# 1. 데이터 불러오기\n",
    "\n",
    "- 이전 과정에서 저장한 다음 4개의 파일을 불러와 데이터프레임으로 선언합니다.\n",
    "    - 구별 버스 정류장 데이터(df_seoul_bus_station.csv) → df_seoul_bus_station\n",
    "    - 구별 유동인구 데이터(df_seoul_moving.csv) → df_seoul_moving\n",
    "    - 구별 상권 데이터(df_seoul_business.csv) → df_seoul_business\n",
    "    - 구별 인구 데이터(df_seoul_people.csv) → df_seoul_people"
   ]
  },
  {
   "cell_type": "code",
   "execution_count": null,
   "id": "d8f6cfe8",
   "metadata": {},
   "outputs": [],
   "source": [
    "# 구별 버스 정류장 데이터불러오기\n",
    "df_seoul_bus_station = pd.read_csv(path + 'df_seoul_bus_station.csv')\n",
    "\n",
    "# 확인\n",
    "df_seoul_bus_station.head()"
   ]
  },
  {
   "cell_type": "code",
   "execution_count": null,
   "id": "7770cc4c",
   "metadata": {},
   "outputs": [],
   "source": [
    "# 구별 유동인구 데이터 불러오기\n",
    "df_seoul_moving = pd.read_csv(path + 'df_seoul_moving.csv')\n",
    "\n",
    "# 확인\n",
    "df_seoul_moving.head()"
   ]
  },
  {
   "cell_type": "code",
   "execution_count": null,
   "id": "8016c05b",
   "metadata": {},
   "outputs": [],
   "source": [
    "#  구별 상권 데이터 불러오기\n",
    "df_seoul_business = pd.read_csv(path + 'df_seoul_business.csv')\n",
    "\n",
    "# 확인\n",
    "df_seoul_business.head()"
   ]
  },
  {
   "cell_type": "code",
   "execution_count": null,
   "id": "a3b0ef35",
   "metadata": {},
   "outputs": [],
   "source": [
    "# 구별 인구 데이터 불러오기\n",
    "df_seoul_people = pd.read_csv(path + 'df_seoul_people.csv')\n",
    "\n",
    "# 확인\n",
    "df_seoul_people.head()"
   ]
  },
  {
   "cell_type": "markdown",
   "id": "02361997-1f98-4e3e-842d-bdae2bddd0be",
   "metadata": {},
   "source": [
    "# 2. 데이터 합치기\n",
    "\n",
    "- 위에서 선언한 네 개의 데이터프레임을 '자치구'열을 기준으로 조인(merge)합니다.\n",
    "- 조인 결과를 df 데이터프레임으로 선언합니다."
   ]
  },
  {
   "cell_type": "code",
   "execution_count": null,
   "id": "24951c98",
   "metadata": {},
   "outputs": [],
   "source": [
    "# 네 개의 데이터프레임 조인(megre)\n",
    "df = pd.merge(df_seoul_bus_station, df_seoul_moving, how='inner', on='자치구')\n",
    "df = pd.merge(df, df_seoul_business, how='inner', on='자치구')\n",
    "df = pd.merge(df, df_seoul_people, how='inner', on='자치구')"
   ]
  },
  {
   "cell_type": "code",
   "execution_count": null,
   "id": "2aab60fa",
   "metadata": {
    "scrolled": true
   },
   "outputs": [],
   "source": [
    "# 확인\n",
    "df"
   ]
  },
  {
   "cell_type": "markdown",
   "id": "b2edf769",
   "metadata": {},
   "source": [
    "# 3. 가설 수립 \n",
    "$ \\huge X \\rightarrow Y $\n",
    "- 가설을 수립해 보세요. (3개 이상)\n",
    "- 미니프로젝트 진행의 편의상 가설은 이변량 분석을 염두에 두고 설정해 주세요.\n",
    "- 다양한 가설이 가능하나, 프로젝트 주제에 맞게 '노선 수'에 대한 가설도 포함해 주세요.\n",
    "- 서울시유동인구등의인구정보와버스승하차인원, 운행노선분석으로버스노선추가가필요한서울시내자치구를선정한다"
   ]
  },
  {
   "attachments": {},
   "cell_type": "markdown",
   "id": "544932b7-34e0-442c-a165-0f8d95e959e7",
   "metadata": {},
   "source": [
    "### 1) 가설 1: - 이현제\n",
    "이동인구(평균) 많고 노선 수이 부족한 곳을 늘릴 필요성이 보인다\n",
    "\n",
    "### 2) 가설 2: - 남지윤\n",
    "승차, 하차 총 승객수가 적거나 많은 곳에 노선 수를 조절할 필요가 있어 보인다.\r\n",
    "\n",
    "### 3) 가설 3:- 문소연\n",
    " 노인들이 많은 곳에 버스 노선을 늘릴 필요가 있다.\n",
    "\n",
    "\n",
    "### 4) 가설 4:- 이상화\n",
    " (한식일반, 한식육류, 커피, 주점) 이 많은 지역에 불구하고 노선수가 부족하다면 늘릴 필요가 있다 "
   ]
  },
  {
   "cell_type": "markdown",
   "id": "6aa7b930",
   "metadata": {},
   "source": [
    "# 4. 단변량 분석\n",
    "\n",
    "- 변수의 비즈니스 의미  \n",
    "- 숫자형, 범주형 구분  \n",
    "- 전처리 사항\n",
    "   - NaN 존재 여부 및 조치 방안  \n",
    "   - 가변수화 대상여부  : 업종총계 생성 (한식 일반, 한식 육류, 커피, 주점)\n",
    "- 기초통계량 : 노선수가 가장 많은 지역은 109개, 가장 적은 지역은 24개\n",
    "- 분포 : scatter plot\n",
    "- 위 정보로부터 파악한 내용(비즈니스) 정리\n",
    "- \n",
    "- 추가 분석해볼 사항 도출 등"
   ]
  },
  {
   "cell_type": "code",
   "execution_count": null,
   "id": "5e52b75e-dd9e-4395-9eda-1e15f3116068",
   "metadata": {},
   "outputs": [],
   "source": [
    "df[['한식일반', '한식육류', '커피', '주점']]"
   ]
  },
  {
   "cell_type": "markdown",
   "id": "ac81d719",
   "metadata": {},
   "source": [
    "# 5.이변량 분석\n",
    "\n",
    "- 자료 종류에 맞게 $X \\rightarrow Y$ 에 대해서 그래프(시각화)와 가설검정(수치화)를 수행하고 결과를 평가하세요.\n",
    "- 가설 검정 시 다음 항목을 참조하여 수행하세요.\n",
    "    - 유의수준: 5%\n",
    "    - 숫자 → 숫자: 상관분석\n",
    "    - 범주 → 범주: 카이제곱검정\n",
    "    - 범주 → 숫자: t검정, 분산분석\n",
    "    - 숫자 → 범주: 로지스틱 회귀모형을 통해, 회귀계수의 p-value로 검정을 수행합니다."
   ]
  },
  {
   "cell_type": "markdown",
   "id": "7c99bbbd",
   "metadata": {},
   "source": [
    "### 상관계수 (우리가 배운 기준)\n",
    "\n",
    "- 0.5 ~ 1: 강한\n",
    "- 0.2 ~ 0.5: 중간\n",
    "- 0.1 ~ 0.2: 약간\n",
    "- 0 ~ 0.1: 없음\n",
    "- 음수 똑같음 \n",
    "\n",
    "### p-value 기준: 0.05 (5%)\n",
    "\n",
    "- p-value가 0.05보다 크다 => 귀무가설을 기각 하지 못한다 => 대립가설(우리가 원하는 바)이 틀렸다\n",
    "- 귀무가설을 기각하려면 우리가 싫어하는 귀무가설을 입증할 증거가 나올 확률이 5% 이하여야 함\n",
    "- p-value가 그 귀무가설을 입증할 증거가 나올 확률을 의미함"
   ]
  },
  {
   "cell_type": "markdown",
   "id": "b98b0a8f-533c-42ca-af4a-8ae5787010c1",
   "metadata": {},
   "source": [
    "### 1) 가설 1\n",
    "#### 이동인구(평균) 많고 노선 수이 부족한 곳을 늘릴 필요성이 보인다"
   ]
  },
  {
   "cell_type": "markdown",
   "id": "ea2ddcf2-74df-4599-9bee-acb5864f956a",
   "metadata": {},
   "source": [
    "### 2) 가설 2\n",
    "#### 승차, 하차 총 승객수가 적거나 많은 곳에 노선 수를 조절할 필요가 있어 보인다."
   ]
  },
  {
   "cell_type": "markdown",
   "id": "be2ce726-06e2-4c0c-95bf-1b276a54c966",
   "metadata": {},
   "source": [
    "### 3) 가설 3\n",
    "#### 노인들이 많은 곳에 버스 노선을 늘릴 필요가 있다."
   ]
  },
  {
   "cell_type": "markdown",
   "id": "c4701a84-f335-454c-a0a6-b267055c7242",
   "metadata": {},
   "source": [
    "### 4) 가설 4\n",
    "#### 업종총계(한식일반, 한식육류, 커피, 주점) 이 많은 지역에 불구하고 노선수가 부족하다면 늘릴 필요가 있다"
   ]
  },
  {
   "cell_type": "markdown",
   "id": "20e08293",
   "metadata": {},
   "source": [
    "# 6. 관계 정리"
   ]
  },
  {
   "cell_type": "markdown",
   "id": "b11433ac",
   "metadata": {},
   "source": [
    "### 1) 강한 관계의 열"
   ]
  },
  {
   "cell_type": "markdown",
   "id": "d942a448-fb58-40de-ab51-88af6ee3c1ae",
   "metadata": {},
   "source": [
    "- 가설4번: 총 이동인구, 업종총계 : 0.91 (강한관계)\n",
    "- 가설2번: 노선수, 승하차 총 승객수 (승차 총 승객수 + 하차 총 승객수) : 0.74 (중간관계)"
   ]
  },
  {
   "cell_type": "markdown",
   "id": "3101b64b",
   "metadata": {},
   "source": [
    "### 2) 중간 관계의 열"
   ]
  },
  {
   "cell_type": "markdown",
   "id": "3a4ecf65-42fa-45f3-b3ea-5f44eae2b124",
   "metadata": {},
   "source": [
    "- 가설1번: 이동인구(합) , 정류장수 : 0.43 (중간관계)"
   ]
  },
  {
   "cell_type": "markdown",
   "id": "644198b7",
   "metadata": {},
   "source": [
    "# 7. 솔루션 도출\n",
    "\n",
    "- 위에서 확인된 내용을 기초로하여 노선(또는 정류장) 추가를 제안할 자치구를 확인하세요. "
   ]
  },
  {
   "cell_type": "markdown",
   "id": "7ef2de47-5c56-4bdf-bd68-e6b3840a2435",
   "metadata": {},
   "source": [
    "### 1) 이동인구(평균) 많고 노선 수이 부족한 곳을 늘릴 필요성이 보인다"
   ]
  },
  {
   "cell_type": "code",
   "execution_count": null,
   "id": "9956d836",
   "metadata": {
    "scrolled": true
   },
   "outputs": [],
   "source": [
    "#NaN 존재 여부 확인\n",
    "df_tmp = df[['이동인구(합)', '정류장수', '노선수']]\n",
    "print('이동인구 NaN:', df['이동인구(합)'].isna().sum(),'정류장수 NaN:', df['정류장수'].isna().sum())\n",
    "\n",
    "\n",
    "# 이동인구(합), 노선수의 기초통계량\n",
    "\n",
    "print('이동인구(합)의 기초통계량:', '\\n', df['이동인구(합)'].describe(),'\\n','\\n', '정류장수의 기초통계량:', '\\n', df['정류장수'].describe(), '\\n','\\n', '정류장수의 기초통계량:', '\\n', df['노선수'].describe())\n",
    "\n",
    "# 의견: 이동인구(합)이 높다면 평균적으로 유동인구가 많은 것이고 그에 비해 노선 수가 적다면 더 많은 노선을 설치하여 교통 편의를 제공할 수 있을거라 생각함\n",
    "\n",
    "# 이동인구(합), 노선수의 barplot으로 작성\n",
    "plt.figure(figsize=(18,10))\n",
    "plt.subplot(2,2,1)\n",
    "sns.barplot(x='자치구', y='이동인구(합)', data = df)\n",
    "plt.title('자치구에 따른 이동인구 평균')\n",
    "plt.xticks(rotation = 45)\n",
    "plt.grid()\n",
    "\n",
    "plt.subplot(2,2,2)\n",
    "sns.barplot(x='자치구', y='정류장수', data = df, color = 'y')\n",
    "plt.title('자치구에 따른 정류장 수')\n",
    "plt.xticks(rotation = 45)\n",
    "plt.grid()\n",
    "\n",
    "plt.subplot(2,2,3)\n",
    "sns.barplot(x='자치구', y='노선수', data = df, color = 'orange')\n",
    "plt.title('자치구에 따른 노선 수')\n",
    "plt.xticks(rotation = 45)\n",
    "plt.grid()\n",
    "\n",
    "\n",
    "plt.tight_layout()\n",
    "plt.show()\n",
    "\n",
    "# 상관계수와 p-value 측정 > 이동인구(합)과 노선수는 p-value가 0.8이라 가설이 틀렸다 볼수 있음, \n",
    "# 이동인구(합)과 노선수는 p-value가 0.5, 상관계수가 0.43으로 중간정도의 상관이 있음\n",
    "\n",
    "print('이동인구(합)과 정류장수 상관계수:',spst.pearsonr(df['이동인구(합)'], df['정류장수']),'\\n', '이동인구(합)과 노선수 상관계수:', spst.pearsonr(df['이동인구(합)'], df['노선수']))\n",
    "\n",
    "\n",
    "plt.figure(figsize = (5, 5))\n",
    "sns.heatmap(df_tmp.corr(), \n",
    "            annot = True,           \n",
    "            fmt = '.3f',             \n",
    "            cmap = 'RdYlBu_r',       \n",
    "            vmin = -1, vmax = 1)     \n",
    "plt.show()\n",
    "\n",
    "import plotly.express as px\n",
    "\n",
    "# # 정류장 수와 이동인구 평균 상관관계 파악하기\n",
    "fig = px.scatter(df, \n",
    "                 x='이동인구(합)',\n",
    "                 y='정류장수', \n",
    "                 color='자치구', \n",
    "                 title='자치구별 정류장 수와 이동인구 평균')\n",
    "\n",
    "fig.show()\n",
    "\n",
    "\n",
    "plt.figure(figsize=(12,6))\n",
    "sns.regplot(x='이동인구(합)', y='정류장수',data=df)\n",
    "plt.title('정류장 수와 이동인구 평균의 산점도')\n",
    "plt.show\n",
    "\n",
    "#결론 : 이동인구의 평균이 높을수록 정류장 수가 많아지나 강동구, 중구 등 다른 데이터에 비해 동떨어진 자치구들은 정류장의 더 많은 설치가 필요해보인다"
   ]
  },
  {
   "cell_type": "markdown",
   "id": "28398d4a-e514-4b45-b793-caf9053cb9b5",
   "metadata": {},
   "source": [
    "# 가설1번 결론\n",
    "#### 노선수의 경우 p-value의 값이 0.05보다 높아 유의미한 관계를 가지지 않는다.\n",
    "#### 대부분 자치구에서 이동인구의 평균이 증가할 수록 정류장의 수가 많아진다.\n",
    "#### 그래프를 보면서 위치가 회귀직선에 벗어난 지역(중구, 강동구)에 대해 정류장 수 조절 필요하다."
   ]
  },
  {
   "cell_type": "markdown",
   "id": "1d692065-4187-4711-ac3d-d887b8212e8c",
   "metadata": {},
   "source": [
    "### 2) 승차, 하차 총 승객수가 적거나 많은 곳에 노선 수를 조절할 필요가 있어 보인다."
   ]
  },
  {
   "cell_type": "code",
   "execution_count": null,
   "id": "d362f909",
   "metadata": {
    "scrolled": true
   },
   "outputs": [],
   "source": [
    "data = {\n",
    "    '자치구': df['자치구'].tolist(),\n",
    "    '승하차총승객수': (df['승차총승객수'] + df['하차총승객수']).tolist(),\n",
    "    '노선수': df['노선수'].tolist()  # 정류장수를 가져오려면 df에서 해당 컬럼을 확인\n",
    "}\n",
    "\n",
    "# 데이터프레임 생성\n",
    "data_df = pd.DataFrame(data)\n",
    "\n",
    "# 통계량 확인\n",
    "stats = data_df[['승하차총승객수', '노선수']].describe()\n",
    "print(stats)\n",
    "\n",
    "\n",
    "data2 = {\n",
    "    '자치구': df['자치구'].tolist(),\n",
    "    '승하차총승객수': (df['승차총승객수'] + df['하차총승객수']).tolist(),\n",
    "    '정류장수': df['정류장수'].tolist()  # 정류장수를 가져오려면 df에서 해당 컬럼을 확인\n",
    "}\n",
    "\n",
    "# 데이터프레임 생성\n",
    "data_df = pd.DataFrame(data2)\n",
    "\n",
    "# 통계량 확인\n",
    "stats = data_df[['승하차총승객수', '정류장수']].describe()\n",
    "print(stats)\n",
    "\n",
    "\n",
    "# 주석\n",
    "merge_df = pd.DataFrame(data)\n",
    "\n",
    "# 상관 분석\n",
    "correlation = merge_df[['승하차총승객수', '노선수']].corr()\n",
    "\n",
    "# 상관 계수 출력\n",
    "display(correlation)\n",
    "\n",
    "# 시각화\n",
    "plt.figure(figsize=(10, 6))\n",
    "sns.scatterplot(data=merge_df, x='노선수', y='승하차총승객수',hue='자치구')\n",
    "plt.title('노선수와 승하차 총 승객수의 관계')\n",
    "plt.xlabel('노선수')\n",
    "plt.ylabel('승하차 총 승객수')\n",
    "plt.grid()\n",
    "plt.show()\n",
    "\n",
    "# 주석\n",
    "merge_df2 = pd.DataFrame(data2)\n",
    "\n",
    "# 상관 분석\n",
    "correlation = merge_df2[['승하차총승객수', '정류장수']].corr()\n",
    "\n",
    "# 상관 계수 출력\n",
    "display(correlation)\n",
    "\n",
    "# 시각화\n",
    "plt.figure(figsize=(10, 6))\n",
    "sns.scatterplot(data=merge_df2, x='정류장수', y='승하차총승객수',hue='자치구')\n",
    "plt.title('정류장수와 승하차 총 승객수의 관계')\n",
    "plt.xlabel('정류장수')\n",
    "plt.ylabel('승하차 총 승객수')\n",
    "plt.grid()\n",
    "plt.show()\n",
    "\n",
    "import plotly.express as px\n",
    "\n",
    "# 승차평균승객수와 하차평균승객수 상관관계 파악하기\n",
    "fig = px.scatter(merge_df, \n",
    "                 x='노선수', \n",
    "                 y='승하차총승객수', \n",
    "                 color='자치구', \n",
    "                 title='노선수와 승하차 총 승객수의 비교')\n",
    "\n",
    "fig.show()\n",
    "\n",
    "\n",
    "\n",
    "merge_df = pd.DataFrame(data)\n",
    "\n",
    "# 상관 분석\n",
    "correlation = merge_df[['승하차총승객수', '노선수']].corr()\n",
    "\n",
    "# 히트맵 시각화\n",
    "plt.figure(figsize=(6, 4))\n",
    "sns.heatmap(correlation, annot=True, cmap='Pastel1', fmt='.2f', square=True, cbar_kws={\"shrink\": .8})\n",
    "plt.title('승하차 총 승객수와 노선수의 상관 계수')\n",
    "plt.show()\n",
    "\n",
    "from scipy.stats import pearsonr\n",
    "# 상관 분석\n",
    "correlation, p_value = pearsonr(data['승하차총승객수'], data['노선수'])\n",
    "\n",
    "# 결과 출력\n",
    "print(f\"상관계수: {correlation:.4f}\")\n",
    "print(f\"p-value: {p_value:.4f}\")\n",
    "\n",
    "# 결과 해석\n",
    "if p_value < 0.05:\n",
    "    print(\"귀무가설 기각. 상관관계가 존재함.\")\n",
    "else:\n",
    "    print(\"귀무가설을 기각할 수 없음. 상관관계가 존재하지 않음.\")\n",
    "\n",
    "# 상관계수 해석\n",
    "if abs(correlation) >= 0.5:\n",
    "    strength = \"강한 상관관계\"\n",
    "elif 0.2 <= abs(correlation) < 0.5:\n",
    "    strength = \"중간 상관관계\"\n",
    "elif 0.1 <= abs(correlation) < 0.2:\n",
    "    strength = \"약한 상관관계\"\n",
    "else:\n",
    "    strength = \"없음\"\n",
    "\n",
    "print(f\"상관관계의 강도: {strength}\")"
   ]
  },
  {
   "cell_type": "markdown",
   "id": "0ad137a0-20ff-431a-8002-3037d918fe41",
   "metadata": {},
   "source": [
    "# 가설2번 결론\n",
    "\n",
    "#### 성동구와 같이 노선수가 작은데 승하차총승객수가 굉장히 작은 경우, 현재 노선을 사용하는 승하차총승객수가 많지 않으므로 노선을 줄일 필요가 있습니다"
   ]
  },
  {
   "cell_type": "markdown",
   "id": "15ff23d0-5956-40d1-bcb1-1891286c1ff2",
   "metadata": {},
   "source": [
    "### 3) 노인들이 많은 곳에 버스 노선을 늘릴 필요가 있다."
   ]
  },
  {
   "cell_type": "code",
   "execution_count": null,
   "id": "2853a845-f902-4919-b3b9-6710955f627e",
   "metadata": {
    "scrolled": true
   },
   "outputs": [],
   "source": [
    "import pandas as pd\n",
    "\n",
    "# 데이터 불러오기\n",
    "seoul_moving = pd.read_csv(path + '1.2 seoul_moving_month_202408.csv', sep=',', encoding='UTF-8')\n",
    "\n",
    "# 확인\n",
    "seoul_moving.head()\n",
    "\n",
    "# 서울지역 데이터 추출\n",
    "# 참고: df = df.loc[(조건1) & (조건)] 형태 구문 사용\n",
    "seoul_moving = seoul_moving.loc[(seoul_moving['출발 시군구 코드'] < 20000) &\n",
    "                                (seoul_moving['도착 시군구 코드'] < 20000)]\n",
    "\n",
    "# 결과 확인\n",
    "seoul_moving.head()\n",
    "# 65 이동 데이터 필터링 (나이 65세 이상)\n",
    "df_65 = seoul_moving[(seoul_moving['나이'] >= 65)]\n",
    "\n",
    "#**[데이터 전처리]**\n",
    "\n",
    "# 구 코드를 구 이름으로 변경\n",
    "df_65['출발 자치구'] = df_65['출발 시군구 코드'].map({\n",
    "      11010: '종로구',   11020: '중구',   11030: '용산구',   11040: '성동구',   11050: '광진구',\n",
    "      11060: '동대문구', 11070: '중랑구', 11080: '성북구',   11090: '강북구',   11100: '도봉구',\n",
    "      11110: '노원구',   11120:\t'은평구', 11130: '서대문구', 11140: '마포구',   11150: '양천구',\n",
    "      11160: '강서구',   11170: '구로구', 11180: '금천구',   11190: '영등포구', 11200: '동작구',\n",
    "      11210: '관악구',   11220: '서초구', 11230: '강남구',   11240: '송파구',   11250: '강동구'})\n",
    "\n",
    "df_65['도착 자치구'] = df_65['도착 시군구 코드'].map({\n",
    "      11010: '종로구',   11020: '중구',   11030: '용산구',   11040: '성동구',   11050: '광진구',\n",
    "      11060: '동대문구', 11070: '중랑구', 11080: '성북구',   11090: '강북구',   11100: '도봉구',\n",
    "      11110: '노원구',   11120:\t'은평구', 11130: '서대문구', 11140: '마포구',   11150: '양천구',\n",
    "      11160: '강서구',   11170: '구로구', 11180: '금천구',   11190: '영등포구', 11200: '동작구',\n",
    "      11210: '관악구',   11220: '서초구', 11230: '강남구',   11240: '송파구',   11250: '강동구'})\n",
    "\n",
    "# '출발/도착 시구군 코드' 열 제거\n",
    "df_65.drop(['출발 시군구 코드', '도착 시군구 코드'], axis=1, inplace=True)\n",
    "\n",
    "\n",
    "# 1. 출발 자치구별 65세 이상 노인의 이동인구 합계 계산\n",
    "departure_group = df_65.groupby('출발 자치구')['이동인구(합)'].sum().reset_index()\n",
    "departure_group.rename(columns={'이동인구(합)': '출발 자치구별 이동인구(합)'}, inplace=True)\n",
    "\n",
    "# 2. 도착 자치구별 65세 이상 노인의 이동인구 합계 계산\n",
    "arrival_group = df_65.groupby('도착 자치구')['이동인구(합)'].sum().reset_index()\n",
    "arrival_group.rename(columns={'이동인구(합)': '도착 자치구별 이동인구(합)'}, inplace=True)\n",
    "\n",
    "# 3. 기존 데이터프레임에 '출발 자치구별 이동인구(합)' 병합\n",
    "merged_df_departure = pd.merge(df_65, departure_group, on='출발 자치구', how='left')\n",
    "\n",
    "# 4. 기존 데이터프레임에 '도착 자치구별 이동인구(합)' 병합\n",
    "merged_df = pd.merge(merged_df_departure, arrival_group, on='도착 자치구', how='left')\n",
    "\n",
    "\n",
    "import matplotlib.pyplot as plt\n",
    "\n",
    "# 출발 자치구별 이동인구(합) 시각화\n",
    "plt.figure(figsize=(12, 6))\n",
    "plt.bar(merged_df['출발 자치구'].unique(), merged_df.groupby('출발 자치구')['출발 자치구별 이동인구(합)'].first(), color='skyblue')\n",
    "plt.xticks(rotation=45)\n",
    "plt.title('출발 자치구 별 65세 이상 노인의 이동인구(합)')\n",
    "plt.xlabel('출발 자치구')\n",
    "plt.ylabel('이동인구(합)')\n",
    "plt.grid(axis='y', linestyle='--', alpha=0.7)\n",
    "plt.show()\n",
    "\n",
    "\n",
    "# 도착 자치구별 이동인구(합) 시각화\n",
    "plt.figure(figsize=(12, 6))\n",
    "plt.bar(merged_df['도착 자치구'].unique(), merged_df.groupby('도착 자치구')['도착 자치구별 이동인구(합)'].first(), color='lightcoral')\n",
    "plt.xticks(rotation=45)\n",
    "plt.title('도착 자치구 별 65세 이상 노인의 이동인구(합)')\n",
    "plt.xlabel('도착 자치구')\n",
    "plt.ylabel('이동인구(합)')\n",
    "plt.grid(axis='y', linestyle='--', alpha=0.7)\n",
    "plt.show()\n",
    "\n",
    "\n",
    "import matplotlib.pyplot as plt\n",
    "\n",
    "# 자치구별 노선 수 시각화\n",
    "plt.figure(figsize=(12, 6))  # 그래프 크기 설정\n",
    "plt.bar(df_seoul_bus_station['자치구'], df_seoul_bus_station['노선수'], color='mediumseagreen')  # 막대 그래프\n",
    "plt.xticks(rotation=45)  # 자치구 이름을 45도 회전하여 보기 좋게 함\n",
    "plt.title('자치구별 버스 노선 수')  # 그래프 제목\n",
    "plt.xlabel('자치구')  # x축 라벨\n",
    "plt.ylabel('노선 수')  # y축 라벨\n",
    "plt.grid(axis='y', linestyle='--', alpha=0.7)  # y축 격자선 추가\n",
    "plt.show()  # 그래프 표시\n",
    "\n",
    "### 상관계수 (우리가 배운 기준)\n",
    "\n",
    "# merged_df와 df_seoul_bus_station을 병합하여 분석에 사용할 데이터프레임 생성\n",
    "# 출발 자치구별 이동인구(합)과 버스 노선 수를 병합\n",
    "\n",
    "# 출발 자치구 기준으로 병합\n",
    "analysis_df_departure = pd.merge(\n",
    "    merged_df[['출발 자치구', '출발 자치구별 이동인구(합)']].drop_duplicates(),\n",
    "    df_seoul_bus_station[['자치구', '노선수']],\n",
    "    left_on='출발 자치구',\n",
    "    right_on='자치구',\n",
    "    how='inner'\n",
    ")\n",
    "\n",
    "# 도착 자치구 기준으로 병합\n",
    "analysis_df_arrival = pd.merge(\n",
    "    merged_df[['도착 자치구', '도착 자치구별 이동인구(합)']].drop_duplicates(),\n",
    "    df_seoul_bus_station[['자치구', '노선수']],\n",
    "    left_on='도착 자치구',\n",
    "    right_on='자치구',\n",
    "    how='inner'\n",
    ")\n",
    "\n",
    "# 결과 확인\n",
    "print(\"출발 자치구 기준 데이터프레임:\")\n",
    "print(analysis_df_departure.head())\n",
    "\n",
    "print(\"\\n도착 자치구 기준 데이터프레임:\")\n",
    "print(analysis_df_arrival.head())\n",
    "\n",
    "\n",
    "import matplotlib.pyplot as plt\n",
    "import seaborn as sns\n",
    "\n",
    "# 자치구별 이동인구 합계 분포 시각화\n",
    "plt.figure(figsize=(10, 6))\n",
    "sns.boxplot(data=analysis_df_departure, y='자치구별 이동인구(합)')\n",
    "plt.title('자치구별 이동인구 합계 분포')\n",
    "plt.show()\n",
    "\n",
    "# 자치구별 노선 수 분포 시각화\n",
    "plt.figure(figsize=(10, 6))\n",
    "sns.boxplot(data=analysis_df_departure, y='노선수')\n",
    "plt.title('자치구별 노선 수 분포')\n",
    "plt.show()\n",
    "\n",
    "\n",
    "from scipy.stats import pearsonr\n",
    "\n",
    "# 출발 자치구 기준 상관분석\n",
    "corr_departure, p_value_departure = pearsonr(\n",
    "    analysis_df_departure['출발 자치구별 이동인구(합)'],\n",
    "    analysis_df_departure['노선수']\n",
    ")\n",
    "\n",
    "print(f\"출발 자치구 기준 상관계수: {corr_departure}\")\n",
    "print(f\"출발 자치구 기준 p-value: {p_value_departure}\")\n",
    "\n",
    "# 시각화\n",
    "plt.figure(figsize=(10, 6))\n",
    "plt.scatter(\n",
    "    analysis_df_departure['출발 자치구별 이동인구(합)'],\n",
    "    analysis_df_departure['노선수'],\n",
    "    color='blue'\n",
    ")\n",
    "plt.title('출발 자치구 별 65세 이상 노인의 이동인구 합계와 버스 노선 수의 상관관계')\n",
    "plt.xlabel('출발 자치구별 65세 이상 노인 이동인구(합)')\n",
    "plt.ylabel('버스 노선 수')\n",
    "plt.grid(True)\n",
    "plt.show()\n",
    "\n",
    "\n",
    "import seaborn as sns\n",
    "import numpy as np\n",
    "\n",
    "# 상관계수 행렬 생성\n",
    "correlation_matrix = analysis_df_departure[['자치구별 이동인구(합)', '노선수']].corr()\n",
    "\n",
    "# 히트맵 시각화\n",
    "plt.figure(figsize=(8, 6))\n",
    "sns.heatmap(correlation_matrix, annot=True, cmap='coolwarm', vmin=-1, vmax=1, cbar=True, linewidths=0.5)\n",
    "plt.title('자치구별 노인 이동인구 합계와 버스 노선 수의 상관관계 히트맵')\n",
    "plt.show()\n",
    "\n",
    "\n",
    "from scipy.stats import spearmanr\n",
    "\n",
    "# 스피어만 상관계수 계산 (순위 상관관계)\n",
    "corr_spearman, p_value_spearman = spearmanr(\n",
    "    analysis_df_departure['자치구별 이동인구(합)'],\n",
    "    analysis_df_departure['노선수']\n",
    ")\n",
    "\n",
    "print(f\"스피어만 상관계수: {corr_spearman}\")\n",
    "print(f\"스피어만 p-value: {p_value_spearman}\")\n",
    "\n",
    "# 시각화\n",
    "plt.figure(figsize=(10, 6))\n",
    "sns.scatterplot(data=analysis_df_departure, x='자치구별 이동인구(합)', y='노선수', hue='출발 자치구', palette='viridis', s=100)\n",
    "plt.title('자치구별 이동인구와 노선 수의 스피어만 상관관계')\n",
    "plt.xlabel('자치구별 이동인구(합)')\n",
    "plt.ylabel('노선수')\n",
    "plt.grid(True)\n",
    "plt.show()\n",
    "\n",
    "\n",
    "import seaborn as sns\n",
    "import matplotlib.pyplot as plt\n",
    "import pandas as pd\n",
    "\n",
    "# 스피어만 상관계수 행렬 계산\n",
    "spearman_corr_matrix = analysis_df_departure[['자치구별 이동인구(합)', '노선수']].corr(method='spearman')\n",
    "\n",
    "# 스피어만 상관계수 히트맵 시각화\n",
    "plt.figure(figsize=(8, 6))\n",
    "sns.heatmap(spearman_corr_matrix, annot=True, cmap='coolwarm', vmin=-1, vmax=1, linewidths=0.5, linecolor='black')\n",
    "plt.title('자치구별 이동인구 합계와 노선 수의 스피어만 상관관계 히트맵')\n",
    "plt.show()\n",
    "\n",
    "\n",
    "heatmap_data = analysis_df_departure.set_index('출발 자치구')[['자치구별 이동인구(합)', '노선수']]\n",
    "\n",
    "# 히트맵 생성\n",
    "plt.figure(figsize=(10, 8))\n",
    "sns.heatmap(heatmap_data, annot=True, cmap='YlGnBu', linewidths=0.5, linecolor='gray')\n",
    "plt.title('자치구별 이동인구 합계와 버스 노선 수 히트맵')\n",
    "plt.xlabel('지표')\n",
    "plt.ylabel('자치구')\n",
    "plt.show()\n",
    "\n",
    "\n",
    "# 열 이름 변경\n",
    "analysis_df_departure.rename(columns={'출발 자치구별 이동인구(합)': '자치구별 이동인구(합)'}, inplace=True)\n",
    "\n",
    "import plotly.express as px\n",
    "\n",
    "# 승차평균승객수와 하차평균승객수 상관관계 파악하기\n",
    "fig = px.scatter(analysis_df_departure,\n",
    "                 x='자치구별 이동인구(합)',\n",
    "                 y='노선수',\n",
    "                 color='자치구',\n",
    "                 title='업종총계와 노선수 비교')\n",
    "\n",
    "fig.show()\n",
    "\n",
    "# 도착 자치구 기준 상관분석\n",
    "corr_arrival, p_value_arrival = pearsonr(\n",
    "    analysis_df_arrival['도착 자치구별 이동인구(합)'],\n",
    "    analysis_df_arrival['노선수']\n",
    ")\n",
    "\n",
    "print(f\"도착 자치구 기준 상관계수: {corr_arrival}\")\n",
    "print(f\"도착 자치구 기준 p-value: {p_value_arrival}\")\n",
    "\n",
    "# 시각화\n",
    "plt.figure(figsize=(10, 6))\n",
    "plt.scatter(\n",
    "    analysis_df_arrival['도착 자치구별 이동인구(합)'],\n",
    "    analysis_df_arrival['노선수'],\n",
    "    color='green'\n",
    ")\n",
    "plt.title('도착 자치구 별 65세 이상 노인의 이동인구 합계와 버스 노선 수의 상관관계')\n",
    "plt.xlabel('도착 자치구별 65세 이상 노인 이동인구(합)')\n",
    "plt.ylabel('버스 노선 수')\n",
    "plt.grid(True)\n",
    "plt.show()\n",
    "\n",
    "\n",
    "import plotly.express as px\n",
    "\n",
    "# 승차평균승객수와 하차평균승객수 상관관계 파악하기\n",
    "fig = px.scatter(analysis_df_arrival,\n",
    "                 x='도착 자치구별 이동인구(합)',\n",
    "                 y='노선수',\n",
    "                 color='자치구',\n",
    "                 title='업종총계와 노선수 비교')\n",
    "\n",
    "fig.show()"
   ]
  },
  {
   "cell_type": "markdown",
   "id": "97727c7b-a507-4bdd-a40e-e03197bed1fd",
   "metadata": {},
   "source": [
    "# 가설 3번 결론\n",
    "#### 상관계수, p-value 값이 유의하지 않아 가설이 틀렸음."
   ]
  },
  {
   "cell_type": "markdown",
   "id": "59fee707-d0ae-46db-b03a-ab5704069ea8",
   "metadata": {},
   "source": [
    "### 4) 업종총계(한식일반, 한식육류, 커피, 주점) 이 많은 지역에 불구하고 노선수가 부족하다면 늘릴 필요가 있다"
   ]
  },
  {
   "cell_type": "code",
   "execution_count": null,
   "id": "1f39aa3f-2734-4b1e-8692-e870d3e2a1de",
   "metadata": {
    "scrolled": true
   },
   "outputs": [],
   "source": [
    "# 가설 4번\n",
    "df['업종총계'] = df['한식 음식점'] + df['기타주점업'] + df['커피전문점']\n",
    "merge4  = df[['자치구','노선수','업종총계','총 이동인구','정류장수']]\n",
    "aaa = df[['노선수','업종총계','총 이동인구','정류장수']]\n",
    "\n",
    "\n",
    "\n",
    "\n",
    "\n",
    "import scipy.stats as st\n",
    "import plotly.express as px\n",
    "import seaborn as sns\n",
    "import matplotlib.pyplot as plt\n",
    "import koreanize_matplotlib\n",
    "\n",
    "fig = px.scatter(merge4, \n",
    "                 x='업종총계', \n",
    "                 y='노선수', \n",
    "                 color='자치구', \n",
    "                 title='업종총계와 노선수 비교')\n",
    "fig.show()\n",
    "\n",
    "# 업종총계 (한식일반, 한식육류, 커피, 주점) 이 많은 지역에 이동 인구도 많으니 노선수가 부족하다면 늘릴 필요가 있다.\n",
    "# 그렇다면 업종 수랑 총 이동인구의 관계를 입증\n",
    "# 그래야지 업종 수가 많은데 노선수는 적으니 늘릴 필요가 있다고 주장 가능\n",
    "# 업종총계 (한식일반, 한식육류, 커피, 주점) 이 많은 지역에 이동 인구도 많으니 노선수가 부족하다면 늘릴 필요가 있다.\n",
    "\n",
    "print('*'*100)\n",
    "print(merge4[['노선수','업종총계','총 이동인구','정류장수']].corr()) \n",
    "print('*'*100)\n",
    "\n",
    "plt.figure(figsize=(8, 8))  \n",
    "sns.heatmap(merge4[['노선수', '정류장수','업종총계','총 이동인구']].corr(), annot=True, cmap='coolwarm', fmt='.2f', square=True) \n",
    "plt.show()\n",
    "\n",
    "\n",
    "# 업종 총계와 총 이동인구의 상관관계가 0.91로 강한 양의 관계를 보이므로 완전 관련 있음\n",
    "# 즉, 업종 총계가 많을수록 이동인구는 늘어나기 떄문에 노선수를 늘릴 필요가 있다.\n",
    "\n",
    "\n",
    "print('*'*100)\n",
    "\n",
    "print(st.pearsonr(x= aaa['업종총계'], y = aaa['노선수'] ))\n",
    "print(st.pearsonr(x= aaa['업종총계'], y = aaa['정류장수'] ))\n",
    "\n",
    "print('*'*100)\n"
   ]
  },
  {
   "cell_type": "markdown",
   "id": "4eec25f0-e2a6-4176-96e5-ae581ee1dcaf",
   "metadata": {
    "scrolled": true
   },
   "source": [
    "# 가설 4번 결론\n",
    "- 먼저, 업종총계라는 가변수를 생성하였다. (업종총계 = 한식 일반 음식점업 + 한식 육류 음식점업 + 기타주점업 + 커피전문점)\n",
    "- 노선수와 엄종총계를 살펴보기 위해 scatter plot을 그렸다.\n",
    "- 그린 결과, 업종총계가 노선수와 중간 정도의 양의 관계가 있다고 생각했고 상관분석을 통해 관련 있음을 확인할 수 있었다.\n",
    "- 단순히, 업종총계가 높아서 노선수가 필요한 것이 아니라 히트맵을 통해 보면 업종총계와 총 이동인구가 강한 관계를 가지기 떄문에 \n",
    "- 업무총계가 많은 지역은 이동인구가 많아 대중교통을 늘릴 필요가 있다고 생각한다.\n",
    "- 업무총계가 많을수록 노선수가 많기 때문에, 현재 강동구의 경우 비슷한 업무총계를 가지는 지역보다 현저히 노선수가 작음을 확인 할 수 있다.\n",
    "- 그래서, 강동구의 노선수를 늘릴 필요성이 보인다"
   ]
  },
  {
   "cell_type": "markdown",
   "id": "48557903-d7d2-4fd3-83d9-76e4f2f86367",
   "metadata": {},
   "source": [
    "### 결론: 어느 구에 버스 노선 또는 정류장이 제일 필요한가요?"
   ]
  },
  {
   "cell_type": "markdown",
   "id": "891ab182-f50a-405d-bea9-00bdfd2c8a3f",
   "metadata": {},
   "source": [
    "- 1번 가설에서 중구, 강동구가 정류장 수가 조절이 필요하다.\n",
    "- 2번 가설에서는 성동구가 노선수 조절이 필요하다.\n",
    "- 4번 가설에서 강동구가 노선수 조절이 필요하다."
   ]
  },
  {
   "cell_type": "code",
   "execution_count": null,
   "id": "494c4a71-86c5-4750-bef1-16d9e87dfb39",
   "metadata": {},
   "outputs": [],
   "source": [
    "# 가설 증명으로 설명"
   ]
  },
  {
   "cell_type": "code",
   "execution_count": null,
   "id": "b8980644-2d84-4d25-89fa-82d81e92df20",
   "metadata": {},
   "outputs": [],
   "source": []
  }
 ],
 "metadata": {
  "colab": {
   "collapsed_sections": [],
   "name": "서울버스수요분석 데이터 분석(EDA)_ver0.1.ipynb",
   "provenance": [],
   "toc_visible": true
  },
  "kernelspec": {
   "display_name": "Python 3 (ipykernel)",
   "language": "python",
   "name": "python3"
  },
  "language_info": {
   "codemirror_mode": {
    "name": "ipython",
    "version": 3
   },
   "file_extension": ".py",
   "mimetype": "text/x-python",
   "name": "python",
   "nbconvert_exporter": "python",
   "pygments_lexer": "ipython3",
   "version": "3.12.4"
  },
  "vscode": {
   "interpreter": {
    "hash": "f08154012ddadd8e950e6e9e035c7a7b32c136e7647e9b7c77e02eb723a8bedb"
   }
  }
 },
 "nbformat": 4,
 "nbformat_minor": 5
}
